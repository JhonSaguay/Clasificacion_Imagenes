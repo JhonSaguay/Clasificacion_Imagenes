{
 "cells": [
  {
   "cell_type": "code",
   "execution_count": 5,
   "metadata": {},
   "outputs": [],
   "source": [
    "import numpy as np\n",
    "import os\n",
    "import re\n",
    "import matplotlib.pyplot as plt\n",
    "from sklearn.metrics import classification_report\n",
    "\n",
    "import keras\n",
    "from keras.models import Sequential\n",
    "from keras.layers import Dense, Dropout, Flatten\n",
    "from keras.layers import Conv2D, MaxPooling2D\n",
    "from sklearn.metrics import confusion_matrix\n",
    " \n",
    "import tensorflow as tf\n",
    "from tensorflow.keras.preprocessing.image import ImageDataGenerator\n",
    "\n",
    "IMG_SIZE = 32"
   ]
  },
  {
   "attachments": {},
   "cell_type": "markdown",
   "metadata": {},
   "source": [
    "Creamos Set de Entrenamiento"
   ]
  },
  {
   "cell_type": "code",
   "execution_count": 6,
   "metadata": {},
   "outputs": [
    {
     "name": "stdout",
     "output_type": "stream",
     "text": [
      "Found 1633 files belonging to 8 classes.\n"
     ]
    }
   ],
   "source": [
    "train_ds = tf.keras.utils.image_dataset_from_directory(os.path.join(os.getcwd(), 'CarneDataset/train'),seed =123,image_size=(IMG_SIZE,IMG_SIZE))\n",
    "classes_train = train_ds.class_names\n",
    "nClasses_train = len(classes_train)"
   ]
  },
  {
   "attachments": {},
   "cell_type": "markdown",
   "metadata": {},
   "source": [
    "\n",
    "Creamos el modelo de CNN y Configuramos los parametros de la red neuronal"
   ]
  },
  {
   "cell_type": "code",
   "execution_count": 7,
   "metadata": {},
   "outputs": [],
   "source": [
    "epochs = 30 # Cantidad de iteraciones completas al conjunto de imagenes de entrenamiento\n",
    "batch_size = 64 # Cantidad de imágenes que se toman a la vez en memoria\n",
    "\n",
    "classifier_model = Sequential([\n",
    "    tf.keras.layers.Rescaling(1./255,input_shape = (IMG_SIZE,IMG_SIZE,3)),\n",
    "    Conv2D(16,3,activation='relu',padding='same'),\n",
    "    MaxPooling2D(),\n",
    "    Conv2D(32,3,activation='relu',padding='same'),\n",
    "    MaxPooling2D(),\n",
    "    Conv2D(64,3,activation='relu',padding='same'),\n",
    "    MaxPooling2D(),\n",
    "    Flatten(),\n",
    "    Dropout(0.5),\n",
    "    Dense(128,activation='relu'),\n",
    "    Dense(nClasses_train)\n",
    "])\n",
    "optimizer = keras.optimizers.Adam(learning_rate=1e-3)\n",
    "classifier_model.compile(optimizer=optimizer, \n",
    "                        loss=tf.keras.losses.SparseCategoricalCrossentropy(from_logits=True),\n",
    "                        metrics=[\"accuracy\"])"
   ]
  },
  {
   "attachments": {},
   "cell_type": "markdown",
   "metadata": {},
   "source": [
    "Entrenamos el modelo CNN"
   ]
  },
  {
   "cell_type": "code",
   "execution_count": 8,
   "metadata": {},
   "outputs": [
    {
     "name": "stdout",
     "output_type": "stream",
     "text": [
      "Epoch 1/30\n"
     ]
    },
    {
     "name": "stderr",
     "output_type": "stream",
     "text": [
      "2023-06-30 17:45:26.369431: I tensorflow/core/common_runtime/executor.cc:1197] [/device:CPU:0] (DEBUG INFO) Executor start aborting (this does not indicate an error and you can ignore this message): INVALID_ARGUMENT: You must feed a value for placeholder tensor 'Placeholder/_0' with dtype string and shape [1633]\n",
      "\t [[{{node Placeholder/_0}}]]\n",
      "2023-06-30 17:45:26.370077: I tensorflow/core/common_runtime/executor.cc:1197] [/device:CPU:0] (DEBUG INFO) Executor start aborting (this does not indicate an error and you can ignore this message): INVALID_ARGUMENT: You must feed a value for placeholder tensor 'Placeholder/_4' with dtype int32 and shape [1633]\n",
      "\t [[{{node Placeholder/_4}}]]\n"
     ]
    },
    {
     "name": "stdout",
     "output_type": "stream",
     "text": [
      "52/52 [==============================] - 3s 44ms/step - loss: 1.4075 - accuracy: 0.5713\n",
      "Epoch 2/30\n",
      "52/52 [==============================] - 2s 41ms/step - loss: 1.2174 - accuracy: 0.5903\n",
      "Epoch 3/30\n",
      "52/52 [==============================] - 2s 42ms/step - loss: 0.9015 - accuracy: 0.6816\n",
      "Epoch 4/30\n",
      "52/52 [==============================] - 3s 50ms/step - loss: 0.6664 - accuracy: 0.7446\n",
      "Epoch 5/30\n",
      "52/52 [==============================] - 3s 51ms/step - loss: 0.5447 - accuracy: 0.7924\n",
      "Epoch 6/30\n",
      "52/52 [==============================] - 3s 46ms/step - loss: 0.4778 - accuracy: 0.8126\n",
      "Epoch 7/30\n",
      "52/52 [==============================] - 2s 39ms/step - loss: 0.4268 - accuracy: 0.8359\n",
      "Epoch 8/30\n",
      "52/52 [==============================] - 3s 47ms/step - loss: 0.4766 - accuracy: 0.8200\n",
      "Epoch 9/30\n",
      "52/52 [==============================] - 3s 47ms/step - loss: 0.3934 - accuracy: 0.8481\n",
      "Epoch 10/30\n",
      "52/52 [==============================] - 3s 47ms/step - loss: 0.3648 - accuracy: 0.8751\n",
      "Epoch 11/30\n",
      "52/52 [==============================] - 3s 43ms/step - loss: 0.3912 - accuracy: 0.8365\n",
      "Epoch 12/30\n",
      "52/52 [==============================] - 2s 41ms/step - loss: 0.3140 - accuracy: 0.8800\n",
      "Epoch 13/30\n",
      "52/52 [==============================] - 2s 40ms/step - loss: 0.2997 - accuracy: 0.8916\n",
      "Epoch 14/30\n",
      "52/52 [==============================] - 2s 39ms/step - loss: 0.2848 - accuracy: 0.9008\n",
      "Epoch 15/30\n",
      "52/52 [==============================] - 2s 40ms/step - loss: 0.2759 - accuracy: 0.8934\n",
      "Epoch 16/30\n",
      "52/52 [==============================] - 3s 43ms/step - loss: 0.2211 - accuracy: 0.9216\n",
      "Epoch 17/30\n",
      "52/52 [==============================] - 3s 46ms/step - loss: 0.2108 - accuracy: 0.9259\n",
      "Epoch 18/30\n",
      "52/52 [==============================] - 3s 43ms/step - loss: 0.2150 - accuracy: 0.9198\n",
      "Epoch 19/30\n",
      "52/52 [==============================] - 3s 46ms/step - loss: 0.4006 - accuracy: 0.8604\n",
      "Epoch 20/30\n",
      "52/52 [==============================] - 3s 44ms/step - loss: 0.2170 - accuracy: 0.9179\n",
      "Epoch 21/30\n",
      "52/52 [==============================] - 3s 43ms/step - loss: 0.2114 - accuracy: 0.9204\n",
      "Epoch 22/30\n",
      "52/52 [==============================] - 3s 43ms/step - loss: 0.2033 - accuracy: 0.9228\n",
      "Epoch 23/30\n",
      "52/52 [==============================] - 3s 45ms/step - loss: 0.1932 - accuracy: 0.9302\n",
      "Epoch 24/30\n",
      "52/52 [==============================] - 3s 45ms/step - loss: 0.1956 - accuracy: 0.9277\n",
      "Epoch 25/30\n",
      "52/52 [==============================] - 3s 48ms/step - loss: 0.2074 - accuracy: 0.9247\n",
      "Epoch 26/30\n",
      "52/52 [==============================] - 3s 44ms/step - loss: 0.1360 - accuracy: 0.9528\n",
      "Epoch 27/30\n",
      "52/52 [==============================] - 3s 46ms/step - loss: 0.1257 - accuracy: 0.9590\n",
      "Epoch 28/30\n",
      "52/52 [==============================] - 3s 46ms/step - loss: 0.1218 - accuracy: 0.9584\n",
      "Epoch 29/30\n",
      "52/52 [==============================] - 3s 43ms/step - loss: 0.1580 - accuracy: 0.9406\n",
      "Epoch 30/30\n",
      "52/52 [==============================] - 3s 43ms/step - loss: 0.1470 - accuracy: 0.9430\n"
     ]
    }
   ],
   "source": [
    "classifier_train = classifier_model.fit(train_ds,batch_size=batch_size,epochs=epochs)"
   ]
  },
  {
   "attachments": {},
   "cell_type": "markdown",
   "metadata": {},
   "source": [
    "Predicción para Test"
   ]
  },
  {
   "cell_type": "code",
   "execution_count": 10,
   "metadata": {},
   "outputs": [
    {
     "name": "stdout",
     "output_type": "stream",
     "text": [
      "Found 810 images belonging to 8 classes.\n"
     ]
    },
    {
     "name": "stdout",
     "output_type": "stream",
     "text": [
      " 1/26 [>.............................] - ETA: 4s"
     ]
    },
    {
     "name": "stderr",
     "output_type": "stream",
     "text": [
      "2023-06-30 17:48:29.674304: I tensorflow/core/common_runtime/executor.cc:1197] [/device:CPU:0] (DEBUG INFO) Executor start aborting (this does not indicate an error and you can ignore this message): INVALID_ARGUMENT: You must feed a value for placeholder tensor 'Placeholder/_0' with dtype int32\n",
      "\t [[{{node Placeholder/_0}}]]\n"
     ]
    },
    {
     "name": "stdout",
     "output_type": "stream",
     "text": [
      "26/26 [==============================] - 3s 125ms/step\n",
      "Correct test values 733 from 810\n",
      "Porcentaje valores correctos: 90.49\n"
     ]
    },
    {
     "data": {
      "text/plain": [
       "array([[  0,   0,   0,   0,   0,   0,   1,   0],\n",
       "       [  0,  39,   0,   9,   0,   0,   0,   0],\n",
       "       [  0,   0,  75,   0,   2,   0,  20,   0],\n",
       "       [  0,   2,   0,  42,   0,   1,   0,   0],\n",
       "       [  0,   1,   5,   0, 442,   0,   4,   7],\n",
       "       [  0,   0,   0,   0,   4,  15,   0,   0],\n",
       "       [  0,   0,   8,   2,   4,   0, 100,   0],\n",
       "       [  0,   0,   0,   0,   7,   0,   0,  20]])"
      ]
     },
     "execution_count": 10,
     "metadata": {},
     "output_type": "execute_result"
    }
   ],
   "source": [
    "datagen = ImageDataGenerator()\n",
    "test_generator = datagen.flow_from_directory(os.path.join(os.getcwd(), 'CarneDataset/test'),\n",
    "                                            target_size = (IMG_SIZE,IMG_SIZE),class_mode = 'categorical',shuffle=False)\n",
    "\n",
    "\n",
    "\n",
    "predicted_test = classifier_model.predict(test_generator)\n",
    "\n",
    "y_predict_test = np.argmax(predicted_test,axis=1)\n",
    "y_real_test = test_generator.classes\n",
    "correct_test = np.where(y_predict_test==y_real_test)[0]\n",
    "\n",
    "print ('Correct test values %s from %s'%(len(correct_test),len(y_real_test)))\n",
    "print ('Porcentaje valores correctos: %.2f'%(len(correct_test)/len(y_real_test)*100))\n",
    "confusion_matrix(y_real_test, y_predict_test)"
   ]
  },
  {
   "attachments": {},
   "cell_type": "markdown",
   "metadata": {},
   "source": [
    "Predicción para Training"
   ]
  },
  {
   "cell_type": "code",
   "execution_count": 12,
   "metadata": {},
   "outputs": [
    {
     "name": "stdout",
     "output_type": "stream",
     "text": [
      "Found 1633 images belonging to 8 classes.\n",
      " 1/52 [..............................] - ETA: 8s"
     ]
    },
    {
     "name": "stderr",
     "output_type": "stream",
     "text": [
      "2023-06-30 17:50:10.735800: I tensorflow/core/common_runtime/executor.cc:1197] [/device:CPU:0] (DEBUG INFO) Executor start aborting (this does not indicate an error and you can ignore this message): INVALID_ARGUMENT: You must feed a value for placeholder tensor 'Placeholder/_0' with dtype int32\n",
      "\t [[{{node Placeholder/_0}}]]\n"
     ]
    },
    {
     "name": "stdout",
     "output_type": "stream",
     "text": [
      "52/52 [==============================] - 7s 127ms/step\n",
      "Correct train values 1604 from 1633\n",
      "Porcentaje valores correctos: 98.22\n"
     ]
    },
    {
     "data": {
      "text/plain": [
       "array([[ 60,   0,   2,   0,   0,   0,   0],\n",
       "       [  0, 197,   0,   3,   0,  13,   0],\n",
       "       [  0,   0, 105,   0,   0,   0,   0],\n",
       "       [  0,   4,   0, 941,   0,   3,   1],\n",
       "       [  0,   0,   0,   1,  36,   0,   0],\n",
       "       [  1,   0,   1,   0,   0, 202,   0],\n",
       "       [  0,   0,   0,   0,   0,   0,  63]])"
      ]
     },
     "execution_count": 12,
     "metadata": {},
     "output_type": "execute_result"
    }
   ],
   "source": [
    "train_generator = datagen.flow_from_directory(os.path.join(os.getcwd(), 'CarneDataset/train'),\n",
    "                                            target_size = (IMG_SIZE,IMG_SIZE),class_mode = 'categorical',shuffle=False)\n",
    "\n",
    "predicted_train = classifier_model.predict(train_generator)\n",
    "y_predict_train = np.argmax(predicted_train,axis=1)\n",
    "y_real_train = train_generator.classes\n",
    "correct_train = np.where(y_predict_train==y_real_train)[0]\n",
    "\n",
    "print ('Correct train values %s from %s'%(len(correct_train),len(y_real_train)))\n",
    "print ('Porcentaje valores correctos: %.2f'%(len(correct_train)/len(y_real_train)*100))\n",
    "confusion_matrix(y_real_train, y_predict_train)"
   ]
  }
 ],
 "metadata": {
  "kernelspec": {
   "display_name": "ven",
   "language": "python",
   "name": "python3"
  },
  "language_info": {
   "codemirror_mode": {
    "name": "ipython",
    "version": 3
   },
   "file_extension": ".py",
   "mimetype": "text/x-python",
   "name": "python",
   "nbconvert_exporter": "python",
   "pygments_lexer": "ipython3",
   "version": "3.8.10"
  },
  "orig_nbformat": 4
 },
 "nbformat": 4,
 "nbformat_minor": 2
}
